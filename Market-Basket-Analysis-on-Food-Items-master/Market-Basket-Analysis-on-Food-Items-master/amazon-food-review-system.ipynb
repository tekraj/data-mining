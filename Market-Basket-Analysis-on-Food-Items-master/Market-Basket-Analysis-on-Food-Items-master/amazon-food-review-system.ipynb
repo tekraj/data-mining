{
 "cells": [
  {
   "cell_type": "markdown",
   "metadata": {},
   "source": [
    "# [1].LOADING LIBRARIES"
   ]
  },
  {
   "cell_type": "code",
   "execution_count": 1,
   "metadata": {
    "_cell_guid": "b1076dfc-b9ad-4769-8c92-a6c4dae69d19",
    "_uuid": "8f2839f25d086af736a60e9eeb907d3b93b6e0e5"
   },
   "outputs": [],
   "source": [
    "\n",
    "import warnings\n",
    "warnings.filterwarnings('ignore')\n",
    "import numpy as np\n",
    "import pandas as pd\n",
    "import matplotlib.pyplot as plt\n",
    "import seaborn as sns\n",
    "from sklearn.preprocessing import StandardScaler\n",
    "from sklearn.model_selection import cross_val_score,train_test_split\n",
    "import nltk\n",
    "#nltk.download('stopwords')\n",
    "from nltk.corpus import stopwords\n",
    "from nltk.stem import PorterStemmer,SnowballStemmer\n",
    "from bs4 import BeautifulSoup\n",
    "from tqdm import tqdm\n",
    "import re\n",
    "import os\n",
    "import sqlite3\n",
    "import time\n",
    "from sklearn.manifold import TSNE\n",
    "import matplotlib.patches as mpatches\n",
    "from sklearn.model_selection import cross_val_score,train_test_split\n",
    "from sklearn.neighbors import KNeighborsClassifier\n",
    "import datetime\n",
    "from sklearn.metrics import confusion_matrix,f1_score,precision_recall_curve,precision_score,recall_score,roc_auc_score,roc_curve,accuracy_score,classification_report\n",
    "\n",
    "import scikitplot.metrics as skplt"
   ]
  },
  {
   "cell_type": "markdown",
   "metadata": {},
   "source": [
    "## LOADING DATA & EDA"
   ]
  },
  {
   "cell_type": "code",
   "execution_count": 2,
   "metadata": {},
   "outputs": [
    {
     "name": "stdout",
     "output_type": "stream",
     "text": [
      "Number of data points in our data (5000, 10)\n"
     ]
    },
    {
     "data": {
      "text/html": [
       "<div>\n",
       "<style scoped>\n",
       "    .dataframe tbody tr th:only-of-type {\n",
       "        vertical-align: middle;\n",
       "    }\n",
       "\n",
       "    .dataframe tbody tr th {\n",
       "        vertical-align: top;\n",
       "    }\n",
       "\n",
       "    .dataframe thead th {\n",
       "        text-align: right;\n",
       "    }\n",
       "</style>\n",
       "<table border=\"1\" class=\"dataframe\">\n",
       "  <thead>\n",
       "    <tr style=\"text-align: right;\">\n",
       "      <th></th>\n",
       "      <th>Id</th>\n",
       "      <th>ProductId</th>\n",
       "      <th>UserId</th>\n",
       "      <th>ProfileName</th>\n",
       "      <th>HelpfulnessNumerator</th>\n",
       "      <th>HelpfulnessDenominator</th>\n",
       "      <th>Score</th>\n",
       "      <th>Time</th>\n",
       "      <th>Summary</th>\n",
       "      <th>Text</th>\n",
       "    </tr>\n",
       "  </thead>\n",
       "  <tbody>\n",
       "    <tr>\n",
       "      <th>0</th>\n",
       "      <td>1</td>\n",
       "      <td>B001E4KFG0</td>\n",
       "      <td>A3SGXH7AUHU8GW</td>\n",
       "      <td>delmartian</td>\n",
       "      <td>1</td>\n",
       "      <td>1</td>\n",
       "      <td>1</td>\n",
       "      <td>1303862400</td>\n",
       "      <td>Good Quality Dog Food</td>\n",
       "      <td>I have bought several of the Vitality canned d...</td>\n",
       "    </tr>\n",
       "    <tr>\n",
       "      <th>1</th>\n",
       "      <td>2</td>\n",
       "      <td>B00813GRG4</td>\n",
       "      <td>A1D87F6ZCVE5NK</td>\n",
       "      <td>dll pa</td>\n",
       "      <td>0</td>\n",
       "      <td>0</td>\n",
       "      <td>0</td>\n",
       "      <td>1346976000</td>\n",
       "      <td>Not as Advertised</td>\n",
       "      <td>Product arrived labeled as Jumbo Salted Peanut...</td>\n",
       "    </tr>\n",
       "    <tr>\n",
       "      <th>2</th>\n",
       "      <td>3</td>\n",
       "      <td>B000LQOCH0</td>\n",
       "      <td>ABXLMWJIXXAIN</td>\n",
       "      <td>Natalia Corres \"Natalia Corres\"</td>\n",
       "      <td>1</td>\n",
       "      <td>1</td>\n",
       "      <td>1</td>\n",
       "      <td>1219017600</td>\n",
       "      <td>\"Delight\" says it all</td>\n",
       "      <td>This is a confection that has been around a fe...</td>\n",
       "    </tr>\n",
       "  </tbody>\n",
       "</table>\n",
       "</div>"
      ],
      "text/plain": [
       "   Id   ProductId          UserId                      ProfileName  \\\n",
       "0   1  B001E4KFG0  A3SGXH7AUHU8GW                       delmartian   \n",
       "1   2  B00813GRG4  A1D87F6ZCVE5NK                           dll pa   \n",
       "2   3  B000LQOCH0   ABXLMWJIXXAIN  Natalia Corres \"Natalia Corres\"   \n",
       "\n",
       "   HelpfulnessNumerator  HelpfulnessDenominator  Score        Time  \\\n",
       "0                     1                       1      1  1303862400   \n",
       "1                     0                       0      0  1346976000   \n",
       "2                     1                       1      1  1219017600   \n",
       "\n",
       "                 Summary                                               Text  \n",
       "0  Good Quality Dog Food  I have bought several of the Vitality canned d...  \n",
       "1      Not as Advertised  Product arrived labeled as Jumbo Salted Peanut...  \n",
       "2  \"Delight\" says it all  This is a confection that has been around a fe...  "
      ]
     },
     "execution_count": 2,
     "metadata": {},
     "output_type": "execute_result"
    }
   ],
   "source": [
    "# loading the data\n",
    "con = sqlite3.connect('database.sqlite')\n",
    "\n",
    "Amazon_Food_Reviews = pd.read_sql_query(\"\"\" SELECT * FROM Reviews WHERE Score != 3 LIMIT 5000\"\"\", con) \n",
    "\n",
    "# Give reviews with Score>3 a positive rating(1), and reviews with a score<3 a negative rating(0).\n",
    "def partition(x):\n",
    "    if x < 3:\n",
    "        return 0\n",
    "    return 1\n",
    "\n",
    "#changing reviews with score less than 3 to be positive and vice-versa\n",
    "actualScore = Amazon_Food_Reviews['Score']\n",
    "positiveNegative = actualScore.map(partition) \n",
    "Amazon_Food_Reviews['Score'] = positiveNegative\n",
    "print(\"Number of data points in our data\", Amazon_Food_Reviews.shape)\n",
    "Amazon_Food_Reviews.head(3)\n"
   ]
  },
  {
   "cell_type": "code",
   "execution_count": 3,
   "metadata": {},
   "outputs": [
    {
     "data": {
      "text/html": [
       "<div>\n",
       "<style scoped>\n",
       "    .dataframe tbody tr th:only-of-type {\n",
       "        vertical-align: middle;\n",
       "    }\n",
       "\n",
       "    .dataframe tbody tr th {\n",
       "        vertical-align: top;\n",
       "    }\n",
       "\n",
       "    .dataframe thead th {\n",
       "        text-align: right;\n",
       "    }\n",
       "</style>\n",
       "<table border=\"1\" class=\"dataframe\">\n",
       "  <thead>\n",
       "    <tr style=\"text-align: right;\">\n",
       "      <th></th>\n",
       "      <th>Id</th>\n",
       "      <th>ProductId</th>\n",
       "      <th>UserId</th>\n",
       "      <th>ProfileName</th>\n",
       "      <th>HelpfulnessNumerator</th>\n",
       "      <th>HelpfulnessDenominator</th>\n",
       "      <th>Score</th>\n",
       "      <th>Time</th>\n",
       "      <th>Summary</th>\n",
       "      <th>Text</th>\n",
       "    </tr>\n",
       "  </thead>\n",
       "  <tbody>\n",
       "    <tr>\n",
       "      <th>0</th>\n",
       "      <td>1</td>\n",
       "      <td>B001E4KFG0</td>\n",
       "      <td>A3SGXH7AUHU8GW</td>\n",
       "      <td>delmartian</td>\n",
       "      <td>1</td>\n",
       "      <td>1</td>\n",
       "      <td>1</td>\n",
       "      <td>1303862400</td>\n",
       "      <td>Good Quality Dog Food</td>\n",
       "      <td>I have bought several of the Vitality canned d...</td>\n",
       "    </tr>\n",
       "    <tr>\n",
       "      <th>1</th>\n",
       "      <td>2</td>\n",
       "      <td>B00813GRG4</td>\n",
       "      <td>A1D87F6ZCVE5NK</td>\n",
       "      <td>dll pa</td>\n",
       "      <td>0</td>\n",
       "      <td>0</td>\n",
       "      <td>0</td>\n",
       "      <td>1346976000</td>\n",
       "      <td>Not as Advertised</td>\n",
       "      <td>Product arrived labeled as Jumbo Salted Peanut...</td>\n",
       "    </tr>\n",
       "    <tr>\n",
       "      <th>2</th>\n",
       "      <td>3</td>\n",
       "      <td>B000LQOCH0</td>\n",
       "      <td>ABXLMWJIXXAIN</td>\n",
       "      <td>Natalia Corres \"Natalia Corres\"</td>\n",
       "      <td>1</td>\n",
       "      <td>1</td>\n",
       "      <td>1</td>\n",
       "      <td>1219017600</td>\n",
       "      <td>\"Delight\" says it all</td>\n",
       "      <td>This is a confection that has been around a fe...</td>\n",
       "    </tr>\n",
       "    <tr>\n",
       "      <th>3</th>\n",
       "      <td>4</td>\n",
       "      <td>B000UA0QIQ</td>\n",
       "      <td>A395BORC6FGVXV</td>\n",
       "      <td>Karl</td>\n",
       "      <td>3</td>\n",
       "      <td>3</td>\n",
       "      <td>0</td>\n",
       "      <td>1307923200</td>\n",
       "      <td>Cough Medicine</td>\n",
       "      <td>If you are looking for the secret ingredient i...</td>\n",
       "    </tr>\n",
       "    <tr>\n",
       "      <th>4</th>\n",
       "      <td>5</td>\n",
       "      <td>B006K2ZZ7K</td>\n",
       "      <td>A1UQRSCLF8GW1T</td>\n",
       "      <td>Michael D. Bigham \"M. Wassir\"</td>\n",
       "      <td>0</td>\n",
       "      <td>0</td>\n",
       "      <td>1</td>\n",
       "      <td>1350777600</td>\n",
       "      <td>Great taffy</td>\n",
       "      <td>Great taffy at a great price.  There was a wid...</td>\n",
       "    </tr>\n",
       "  </tbody>\n",
       "</table>\n",
       "</div>"
      ],
      "text/plain": [
       "   Id   ProductId          UserId                      ProfileName  \\\n",
       "0   1  B001E4KFG0  A3SGXH7AUHU8GW                       delmartian   \n",
       "1   2  B00813GRG4  A1D87F6ZCVE5NK                           dll pa   \n",
       "2   3  B000LQOCH0   ABXLMWJIXXAIN  Natalia Corres \"Natalia Corres\"   \n",
       "3   4  B000UA0QIQ  A395BORC6FGVXV                             Karl   \n",
       "4   5  B006K2ZZ7K  A1UQRSCLF8GW1T    Michael D. Bigham \"M. Wassir\"   \n",
       "\n",
       "   HelpfulnessNumerator  HelpfulnessDenominator  Score        Time  \\\n",
       "0                     1                       1      1  1303862400   \n",
       "1                     0                       0      0  1346976000   \n",
       "2                     1                       1      1  1219017600   \n",
       "3                     3                       3      0  1307923200   \n",
       "4                     0                       0      1  1350777600   \n",
       "\n",
       "                 Summary                                               Text  \n",
       "0  Good Quality Dog Food  I have bought several of the Vitality canned d...  \n",
       "1      Not as Advertised  Product arrived labeled as Jumbo Salted Peanut...  \n",
       "2  \"Delight\" says it all  This is a confection that has been around a fe...  \n",
       "3         Cough Medicine  If you are looking for the secret ingredient i...  \n",
       "4            Great taffy  Great taffy at a great price.  There was a wid...  "
      ]
     },
     "execution_count": 3,
     "metadata": {},
     "output_type": "execute_result"
    }
   ],
   "source": [
    "Amazon_Food_Reviews.head()"
   ]
  },
  {
   "cell_type": "code",
   "execution_count": 4,
   "metadata": {},
   "outputs": [
    {
     "name": "stdout",
     "output_type": "stream",
     "text": [
      "000.280 % of data removed during duplicates removal operation\n"
     ]
    }
   ],
   "source": [
    "Amazon_Food_Reviews_Sorted_Data= Amazon_Food_Reviews.sort_values('ProductId',axis=0, inplace=False, kind='quicksort', na_position='last')\n",
    "Amazon_Food_Reviews_Duplicates_Dropped= Amazon_Food_Reviews_Sorted_Data.drop_duplicates(subset={\"UserId\",\"ProfileName\",\"Time\",\"Text\"},keep='first',inplace=False)\n",
    "print(\"{:07.3f} % of data removed during duplicates removal operation\".format((1-(Amazon_Food_Reviews_Duplicates_Dropped.shape[0])/(Amazon_Food_Reviews_Sorted_Data.shape[0]))*100))"
   ]
  },
  {
   "cell_type": "code",
   "execution_count": 5,
   "metadata": {},
   "outputs": [
    {
     "name": "stdout",
     "output_type": "stream",
     "text": [
      "000.000 % of data removed\n"
     ]
    }
   ],
   "source": [
    "Amazon_Food_Reviews_Preprocessed=Amazon_Food_Reviews_Duplicates_Dropped[Amazon_Food_Reviews_Duplicates_Dropped.HelpfulnessNumerator<=Amazon_Food_Reviews_Duplicates_Dropped.HelpfulnessDenominator]\n",
    "print(\"{:07.3f} % of data removed\".format(np.round((1-(Amazon_Food_Reviews_Preprocessed.shape[0])/(Amazon_Food_Reviews_Duplicates_Dropped.shape[0]))*100)))"
   ]
  },
  {
   "cell_type": "markdown",
   "metadata": {},
   "source": [
    "# [3].  Text Preprocessing.\n",
    "\n",
    "Now that we have finished deduplication our data requires some preprocessing before we go on further with analysis and making the prediction model.\n",
    "\n",
    "Hence in the Preprocessing phase we do the following in the order below:-\n",
    "\n",
    "1. Begin by removing the html tags\n",
    "2. Remove any punctuations or limited set of special characters like , or . or # etc.\n",
    "3. Check if the word is made up of english letters and is not alpha-numeric\n",
    "4. Check to see if the length of the word is greater than 2 (as it was researched that there is no adjective in 2-letters)\n",
    "5. Convert the word to lowercase\n",
    "6. Remove Stopwords\n",
    "7. Finally Snowball Stemming the word (it was obsereved to be better than Porter Stemming)<br>\n",
    "\n",
    "After which we collect the words used to describe positive and negative reviews"
   ]
  },
  {
   "cell_type": "code",
   "execution_count": 6,
   "metadata": {},
   "outputs": [],
   "source": [
    "def DeContraction(document):\n",
    "    document= re.sub(r\"won\\'t\",\"will not\",document)\n",
    "    document= re.sub(r\"can\\'t\",\"can not\",document)\n",
    "    document= re.sub(r\"\\'t\",\"not\",document)\n",
    "    document= re.sub(r\"\\'m\",\"am\",document)\n",
    "    document= re.sub(r\"\\'re\",\"are\",document)\n",
    "    document= re.sub(r\"\\'ve\",\"have\",document)\n",
    "    document= re.sub(r\"\\'d\",\"would\",document)\n",
    "    document= re.sub(r\"\\'s\",\"is\",document)\n",
    "    document= re.sub(r\"\\'ll\",\"will\",document)\n",
    "    return document"
   ]
  },
  {
   "cell_type": "code",
   "execution_count": 7,
   "metadata": {},
   "outputs": [],
   "source": [
    "Custom_StopWords = [word for word in stopwords.words('english') if word not in ['no','nor','not']]"
   ]
  },
  {
   "cell_type": "code",
   "execution_count": 8,
   "metadata": {},
   "outputs": [],
   "source": [
    "from tqdm import tqdm\n",
    "def Preprocessing(Text_Data):\n",
    "    Preprocessed_Text =[]\n",
    "    for document in tqdm(Text_Data):\n",
    "        document= re.sub(r\"http\\S+\",\"\",document)\n",
    "        document = BeautifulSoup(document,'html').get_text()\n",
    "        document=DeContraction(document)\n",
    "        document = re.sub(r\"\\S*\\d\\S*\",\"\",document).strip()\n",
    "        document = re.sub(\"[^a-zA-Z]+\",' ',document)\n",
    "        document = ' '.join(word.lower() for word in document.split() if word.lower() not in Custom_StopWords)\n",
    "        Preprocessed_Text.append(document)\n",
    "    return Preprocessed_Text"
   ]
  },
  {
   "cell_type": "code",
   "execution_count": 9,
   "metadata": {},
   "outputs": [
    {
     "name": "stderr",
     "output_type": "stream",
     "text": [
      "100%|█████████████████████████████████████████████████████████████████████████████| 4986/4986 [00:12<00:00, 397.08it/s]"
     ]
    },
    {
     "name": "stdout",
     "output_type": "stream",
     "text": [
      "860 :ihave tried mixes pancakes theyhave awful one really good buy stock co people buying product iam sure\n"
     ]
    },
    {
     "name": "stderr",
     "output_type": "stream",
     "text": [
      "\n"
     ]
    }
   ],
   "source": [
    "Preprocessed_Amazon_Reviews = Preprocessing(Amazon_Food_Reviews_Preprocessed['Text'].values)\n",
    "np.random.seed(42)\n",
    "print(\"{} :{}\".format(np.random.randint(Amazon_Food_Reviews_Preprocessed.shape[0]),\n",
    "                      Preprocessed_Amazon_Reviews[np.random.randint(Amazon_Food_Reviews_Preprocessed.shape[0])]))"
   ]
  },
  {
   "cell_type": "markdown",
   "metadata": {},
   "source": [
    "# [4] FEATURIZATION OF ENTIRE DATASET"
   ]
  },
  {
   "cell_type": "markdown",
   "metadata": {},
   "source": [
    "## [4.1] BAG OF WORDS"
   ]
  },
  {
   "cell_type": "code",
   "execution_count": 10,
   "metadata": {},
   "outputs": [
    {
     "name": "stdout",
     "output_type": "stream",
     "text": [
      "Type of Output:<class 'scipy.sparse.csr.csr_matrix'>,Size:(4986, 13278)\n"
     ]
    }
   ],
   "source": [
    "from sklearn.feature_extraction.text import CountVectorizer\n",
    "cnt_vectorizer= CountVectorizer()\n",
    "Count_Vectorized_Reviews=cnt_vectorizer.fit_transform(Preprocessed_Amazon_Reviews)\n",
    "print(\"Type of Output:{},Size:{}\".format(type(Count_Vectorized_Reviews),Count_Vectorized_Reviews.get_shape()))"
   ]
  },
  {
   "cell_type": "markdown",
   "metadata": {},
   "source": [
    "## [4.2] Bi-Grams and n-Grams."
   ]
  },
  {
   "cell_type": "code",
   "execution_count": 11,
   "metadata": {},
   "outputs": [
    {
     "name": "stdout",
     "output_type": "stream",
     "text": [
      "Type of Output:<class 'scipy.sparse.csr.csr_matrix'>,Size:(4986, 3156)\n"
     ]
    }
   ],
   "source": [
    "#Count Vector With Bi-Grams,Words considering whose frequency greater than 10\n",
    "Cnt_Vectorizer_Bigrams=CountVectorizer(ngram_range=(1,2),min_df=10)\n",
    "Count_Vectorized_Reviews_Bigram = Cnt_Vectorizer_Bigrams.fit_transform(Preprocessed_Amazon_Reviews)\n",
    "print(\"Type of Output:{},Size:{}\".format(type(Count_Vectorized_Reviews_Bigram),Count_Vectorized_Reviews_Bigram.get_shape()))"
   ]
  },
  {
   "cell_type": "markdown",
   "metadata": {},
   "source": [
    "## [4.3] TF-IDF"
   ]
  },
  {
   "cell_type": "code",
   "execution_count": 12,
   "metadata": {},
   "outputs": [
    {
     "name": "stdout",
     "output_type": "stream",
     "text": [
      "Type of Output:<class 'scipy.sparse.csr.csr_matrix'>,Size:(4986, 3156)\n"
     ]
    }
   ],
   "source": [
    "from sklearn.feature_extraction.text import TfidfVectorizer\n",
    "tfidf_vectorizer_bigram = TfidfVectorizer(ngram_range=(1,2),min_df=10)\n",
    "TFIDF_Vectorized_Reviews_Bigram=tfidf_vectorizer_bigram.fit_transform(Preprocessed_Amazon_Reviews)\n",
    "print(\"Type of Output:{},Size:{}\".format(type(TFIDF_Vectorized_Reviews_Bigram),TFIDF_Vectorized_Reviews_Bigram.get_shape()))"
   ]
  },
  {
   "cell_type": "markdown",
   "metadata": {},
   "source": [
    "## [4.4] Word2Vec"
   ]
  },
  {
   "cell_type": "code",
   "execution_count": 13,
   "metadata": {},
   "outputs": [],
   "source": [
    "List_Of_document=[]\n",
    "for document in Preprocessed_Amazon_Reviews:\n",
    "    List_Of_document.append(document.split())"
   ]
  },
  {
   "cell_type": "code",
   "execution_count": 14,
   "metadata": {},
   "outputs": [],
   "source": [
    "from gensim.models import Word2Vec\n",
    "def Train_Word2Vec(List_Of_document,want_to_train_own_word2vec_model=True):\n",
    "    if want_to_train_own_word2vec_model:\n",
    "        return Word2Vec(List_Of_document,min_count=5,size=128,workers=os.cpu_count()-2)"
   ]
  },
  {
   "cell_type": "code",
   "execution_count": 15,
   "metadata": {},
   "outputs": [],
   "source": [
    "Word2Vec_Model = Train_Word2Vec(List_Of_document)\n",
    "w2v_words=list(Word2Vec_Model.wv.vocab)"
   ]
  },
  {
   "cell_type": "markdown",
   "metadata": {},
   "source": [
    "### [4.4.1] AVG WORD2VEC"
   ]
  },
  {
   "cell_type": "code",
   "execution_count": 16,
   "metadata": {},
   "outputs": [],
   "source": [
    "def Weighted_Word2Vec(Word2Vec_Model,List_Of_document):\n",
    "    Documents_Vector=[]\n",
    "    for document in tqdm(List_Of_document):\n",
    "        Document_Vector=np.zeros(128)\n",
    "        count_words=0\n",
    "        for word in document:\n",
    "            if word in w2v_words:\n",
    "                word_vector=Word2Vec_Model.wv[word]\n",
    "                Document_Vector+=word_vector\n",
    "                count_words+=1\n",
    "        if count_words!=0:\n",
    "            Document_Vector/=count_words\n",
    "        Documents_Vector.append(Document_Vector)\n",
    "    return Documents_Vector"
   ]
  },
  {
   "cell_type": "code",
   "execution_count": 17,
   "metadata": {},
   "outputs": [
    {
     "name": "stderr",
     "output_type": "stream",
     "text": [
      "100%|█████████████████████████████████████████████████████████████████████████████| 4986/4986 [00:07<00:00, 695.68it/s]\n"
     ]
    }
   ],
   "source": [
    "Weighted_Word2Vec_Vectorization=Weighted_Word2Vec(Word2Vec_Model,List_Of_document)"
   ]
  },
  {
   "cell_type": "markdown",
   "metadata": {},
   "source": [
    "### [4.4.2] TFIDF WORD2VEC"
   ]
  },
  {
   "cell_type": "code",
   "execution_count": 18,
   "metadata": {},
   "outputs": [],
   "source": [
    "tfidf_model =TfidfVectorizer()\n",
    "tfidf_model.fit(Preprocessed_Amazon_Reviews)\n",
    "IDF_Dictionary= dict(zip(tfidf_model.get_feature_names(),tfidf_model.idf_))"
   ]
  },
  {
   "cell_type": "code",
   "execution_count": 19,
   "metadata": {},
   "outputs": [],
   "source": [
    "def TFIDF_WORD2VEC(tfidf_model,IDF_Dictionary,List_Of_document):\n",
    "    TFIDF_FEATURES = tfidf_model.get_feature_names()\n",
    "    TFIDF_Documents_Vector=[]\n",
    "    row=0\n",
    "    for Document in tqdm(List_Of_document):\n",
    "        Document_Vector=np.zeros(128)\n",
    "        weighted_sum=0\n",
    "        for word in Document:\n",
    "            if word in w2v_words and word in TFIDF_FEATURES:\n",
    "                word_vector=Word2Vec_Model.wv[word]\n",
    "                word_tfidf= IDF_Dictionary[word]*(Document.count(word)/len(Document))\n",
    "                Document_Vector+=word_vector*word_tfidf\n",
    "                weighted_sum+=word_tfidf\n",
    "        if weighted_sum!=0:\n",
    "            Document_Vector/=weighted_sum\n",
    "        TFIDF_Documents_Vector.append(Document_Vector)\n",
    "        row+=1\n",
    "    return TFIDF_Documents_Vector"
   ]
  },
  {
   "cell_type": "code",
   "execution_count": 20,
   "metadata": {},
   "outputs": [
    {
     "name": "stderr",
     "output_type": "stream",
     "text": [
      "100%|█████████████████████████████████████████████████████████████████████████████| 4986/4986 [00:46<00:00, 106.34it/s]\n"
     ]
    }
   ],
   "source": [
    "TFIDF_Word2Vec_Vectorization=TFIDF_WORD2VEC(tfidf_model,IDF_Dictionary,List_Of_document)"
   ]
  },
  {
   "cell_type": "markdown",
   "metadata": {},
   "source": [
    "# [ 5] VISUALIZATION"
   ]
  },
  {
   "cell_type": "code",
   "execution_count": 22,
   "metadata": {},
   "outputs": [],
   "source": [
    "import time\n",
    "os.mkdir('Visualization/')\n",
    "def Visualization(Dataset,Score,Title,no_of_dims=2,perplexity=50,learning_rate=200):\n",
    "    plt.figure(figsize=(12,10))\n",
    "    TSNE_Model = TSNE(n_components=no_of_dims,perplexity=perplexity,learning_rate=learning_rate,n_jobs=-1,n_iter=5000)\n",
    "    start_time=time.time()\n",
    "    X_TSNE=TSNE_Model.fit_transform(Dataset)\n",
    "    stop_time=time.time()\n",
    "    Data = np.hstack((X_TSNE,Score.reshape(-1,1)))\n",
    "    TSNE_DF=pd.DataFrame(Data,columns=['Dimension_x','Dimension_y','Score'])\n",
    "    colors = {0:'red', 1:'blue'}\n",
    "    plt.scatter(TSNE_DF['Dimension_x'], TSNE_DF['Dimension_y'], c=TSNE_DF['Score'].apply(lambda x: colors[x]))\n",
    "    plt.title(Title)\n",
    "    green_patch = mpatches.Patch(color='green', label='perplexity :'+str(perplexity))\n",
    "    black_patch = mpatches.Patch(color='black', label='learning rate :'+str(learning_rate))\n",
    "    plt.xlabel('Dimension_x')\n",
    "    plt.ylabel('Dimension_y')\n",
    "    plt.legend(handles=[green_patch, black_patch])\n",
    "    Image = os.path.join('Visualization/',Title+'n_components'+'_'+str(no_of_dims)+'_'+'perplexity'+'_'+str(perplexity)+'_'+'learning_rate'+'_'+str(learning_rate)+'.png')\n",
    "    plt.savefig(fname =Image,dpi=500,format='png')\n",
    "    Total_Time=(stop_time-start_time)/60\n",
    "    print('Execution Time:{}'.format(Total_Time))"
   ]
  },
  {
   "cell_type": "markdown",
   "metadata": {},
   "source": [
    "## [5.1] COUNT VECTORIZATION"
   ]
  },
  {
   "cell_type": "code",
   "execution_count": 23,
   "metadata": {},
   "outputs": [
    {
     "name": "stdout",
     "output_type": "stream",
     "text": [
      "Execution Time:9.093512686093648\n"
     ]
    },
    {
     "data": {
      "image/png": "[encoded data removed]",
      "text/plain": [
       "<Figure size 864x720 with 1 Axes>"
      ]
     },
     "metadata": {
      "needs_background": "light"
     },
     "output_type": "display_data"
    }
   ],
   "source": [
    "Visualization(Dataset=Count_Vectorized_Reviews.toarray(),Score=Amazon_Food_Reviews_Preprocessed['Score'].values,Title='Count Vectoization TSNE',no_of_dims=2,perplexity=10,learning_rate=200)"
   ]
  },
  {
   "cell_type": "code",
   "execution_count": 24,
   "metadata": {},
   "outputs": [
    {
     "name": "stdout",
     "output_type": "stream",
     "text": [
      "Execution Time:7.80785372654597\n"
     ]
    },
    {
     "data": {
      "image/png": "[encoded data removed]",
      "text/plain": [
       "<Figure size 864x720 with 1 Axes>"
      ]
     },
     "metadata": {
      "needs_background": "light"
     },
     "output_type": "display_data"
    }
   ],
   "source": [
    "Visualization(Dataset=Count_Vectorized_Reviews.toarray(),Score=Amazon_Food_Reviews_Preprocessed['Score'].values,Title='Count Vectoization TSNE',no_of_dims=2,perplexity=30,learning_rate=200)"
   ]
  },
  {
   "cell_type": "code",
   "execution_count": null,
   "metadata": {},
   "outputs": [],
   "source": [
    "Visualization(Dataset=Count_Vectorized_Reviews.toarray(),Score=Amazon_Food_Reviews_Preprocessed['Score'].values,Title='Count Vectoization TSNE',no_of_dims=2,perplexity=20,learning_rate=200)"
   ]
  },
  {
   "cell_type": "code",
   "execution_count": null,
   "metadata": {},
   "outputs": [],
   "source": [
    "Visualization(Dataset=Count_Vectorized_Reviews.toarray(),Score=Amazon_Food_Reviews_Preprocessed['Score'].values,Title='Count Vectoization TSNE',no_of_dims=2,perplexity=40,learning_rate=200)"
   ]
  },
  {
   "cell_type": "code",
   "execution_count": null,
   "metadata": {},
   "outputs": [],
   "source": [
    "Visualization(Dataset=Count_Vectorized_Reviews.toarray(),Score=Amazon_Food_Reviews_Preprocessed['Score'].values,Title='Count Vectoization TSNE')"
   ]
  },
  {
   "cell_type": "code",
   "execution_count": null,
   "metadata": {},
   "outputs": [],
   "source": [
    "Visualization(Dataset=Count_Vectorized_Reviews.toarray(),Score=Amazon_Food_Reviews_Preprocessed['Score'].values,Title='Count Vectoization TSNE',no_of_dims=2,perplexity=100,learning_rate=200)"
   ]
  },
  {
   "cell_type": "markdown",
   "metadata": {},
   "source": [
    "## [5.2] BIGRAM COUNT VECTORIZATION "
   ]
  },
  {
   "cell_type": "code",
   "execution_count": null,
   "metadata": {},
   "outputs": [],
   "source": [
    "Visualization(Dataset=Count_Vectorized_Reviews_Bigram.toarray(),Score=Amazon_Food_Reviews_Preprocessed['Score'].values,Title='BiGRAM Count Vectoization TSNE',no_of_dims=2,perplexity=10,learning_rate=200)"
   ]
  },
  {
   "cell_type": "code",
   "execution_count": null,
   "metadata": {},
   "outputs": [],
   "source": [
    "Visualization(Dataset=Count_Vectorized_Reviews_Bigram.toarray(),Score=Amazon_Food_Reviews_Preprocessed['Score'].values,Title='BiGRAM Count Vectoization TSNE',no_of_dims=2,perplexity=20,learning_rate=200)"
   ]
  },
  {
   "cell_type": "code",
   "execution_count": null,
   "metadata": {},
   "outputs": [],
   "source": [
    "Visualization(Dataset=Count_Vectorized_Reviews_Bigram.toarray(),Score=Amazon_Food_Reviews_Preprocessed['Score'].values,Title='BiGRAM Count Vectoization TSNE',no_of_dims=2,perplexity=30,learning_rate=200)"
   ]
  },
  {
   "cell_type": "code",
   "execution_count": null,
   "metadata": {},
   "outputs": [],
   "source": [
    "Visualization(Dataset=Count_Vectorized_Reviews_Bigram.toarray(),Score=Amazon_Food_Reviews_Preprocessed['Score'].values,Title='BiGRAM Count Vectoization TSNE',no_of_dims=2,perplexity=40,learning_rate=200)"
   ]
  },
  {
   "cell_type": "code",
   "execution_count": null,
   "metadata": {},
   "outputs": [],
   "source": [
    "Visualization(Dataset=Count_Vectorized_Reviews_Bigram.toarray(),Score=Amazon_Food_Reviews_Preprocessed['Score'].values,Title='BiGRAM Count Vectoization TSNE')"
   ]
  },
  {
   "cell_type": "code",
   "execution_count": null,
   "metadata": {},
   "outputs": [],
   "source": [
    "Visualization(Dataset=Count_Vectorized_Reviews_Bigram.toarray(),Score=Amazon_Food_Reviews_Preprocessed['Score'].values,Title='BiGRAM Count Vectoization TSNE',no_of_dims=2,perplexity=100,learning_rate=200)"
   ]
  },
  {
   "cell_type": "markdown",
   "metadata": {},
   "source": [
    "## [5.3] TFIDF BIGRAM VECTORIZATION "
   ]
  },
  {
   "cell_type": "code",
   "execution_count": null,
   "metadata": {},
   "outputs": [],
   "source": [
    "Visualization(Dataset=TFIDF_Vectorized_Reviews_Bigram.toarray(),Score=Amazon_Food_Reviews_Preprocessed['Score'].values,Title='BiGRAM TFIDF Vectoization TSNE',no_of_dims=2,perplexity=10,learning_rate=200)"
   ]
  },
  {
   "cell_type": "raw",
   "metadata": {},
   "source": [
    "Visualization(Dataset=TFIDF_Vectorized_Reviews_Bigram.toarray(),Score=Amazon_Food_Reviews_Preprocessed['Score'].values,Title='BiGRAM TFIDF Vectoization TSNE',no_of_dims=2,perplexity=20,learning_rate=200)"
   ]
  },
  {
   "cell_type": "code",
   "execution_count": null,
   "metadata": {},
   "outputs": [],
   "source": [
    "Visualization(Dataset=TFIDF_Vectorized_Reviews_Bigram.toarray(),Score=Amazon_Food_Reviews_Preprocessed['Score'].values,Title='BiGRAM TFIDF Vectoization TSNE',no_of_dims=2,perplexity=30,learning_rate=200)"
   ]
  },
  {
   "cell_type": "code",
   "execution_count": null,
   "metadata": {},
   "outputs": [],
   "source": [
    "Visualization(Dataset=TFIDF_Vectorized_Reviews_Bigram.toarray(),Score=Amazon_Food_Reviews_Preprocessed['Score'].values,Title='BiGRAM TFIDF Vectoization TSNE',no_of_dims=2,perplexity=40,learning_rate=200)"
   ]
  },
  {
   "cell_type": "code",
   "execution_count": null,
   "metadata": {},
   "outputs": [],
   "source": [
    "Visualization(Dataset=TFIDF_Vectorized_Reviews_Bigram.toarray(),Score=Amazon_Food_Reviews_Preprocessed['Score'].values,Title='BiGRAM TFIDF Vectoization TSNE')"
   ]
  },
  {
   "cell_type": "code",
   "execution_count": null,
   "metadata": {},
   "outputs": [],
   "source": [
    "Visualization(Dataset=TFIDF_Vectorized_Reviews_Bigram.toarray(),Score=Amazon_Food_Reviews_Preprocessed['Score'].values,Title='BiGRAM TFIDF Vectoization TSNE',no_of_dims=2,perplexity=100,learning_rate=200)"
   ]
  },
  {
   "cell_type": "markdown",
   "metadata": {},
   "source": [
    "## [5.4.1] AVG WEIGHTED WORD2VEC VECTORIZATION "
   ]
  },
  {
   "cell_type": "code",
   "execution_count": null,
   "metadata": {},
   "outputs": [],
   "source": [
    "Visualization(Dataset=Weighted_Word2Vec_Vectorization,Score=Amazon_Food_Reviews_Preprocessed['Score'].values,Title='AVG WORD2VEC Vectoization TSNE',no_of_dims=2,perplexity=10,learning_rate=200)"
   ]
  },
  {
   "cell_type": "code",
   "execution_count": null,
   "metadata": {},
   "outputs": [],
   "source": [
    "Visualization(Dataset=Weighted_Word2Vec_Vectorization,Score=Amazon_Food_Reviews_Preprocessed['Score'].values,Title='AVG WORD2VEC Vectoization TSNE',no_of_dims=2,perplexity=20,learning_rate=200)"
   ]
  },
  {
   "cell_type": "code",
   "execution_count": null,
   "metadata": {},
   "outputs": [],
   "source": [
    "Visualization(Dataset=Weighted_Word2Vec_Vectorization,Score=Amazon_Food_Reviews_Preprocessed['Score'].values,Title='AVG WORD2VEC Vectoization TSNE',no_of_dims=2,perplexity=30,learning_rate=200)"
   ]
  },
  {
   "cell_type": "code",
   "execution_count": null,
   "metadata": {},
   "outputs": [],
   "source": [
    "Visualization(Dataset=Weighted_Word2Vec_Vectorization,Score=Amazon_Food_Reviews_Preprocessed['Score'].values,Title='AVG WORD2VEC Vectoization TSNE',no_of_dims=2,perplexity=40,learning_rate=200)"
   ]
  },
  {
   "cell_type": "code",
   "execution_count": null,
   "metadata": {},
   "outputs": [],
   "source": [
    "Visualization(Dataset=Weighted_Word2Vec_Vectorization,Score=Amazon_Food_Reviews_Preprocessed['Score'].values,Title='AVG WORD2VEC Vectoization TSNE')"
   ]
  },
  {
   "cell_type": "code",
   "execution_count": null,
   "metadata": {},
   "outputs": [],
   "source": [
    "Visualization(Dataset=Weighted_Word2Vec_Vectorization,Score=Amazon_Food_Reviews_Preprocessed['Score'].values,Title='AVG WORD2VEC Vectoization TSNE',no_of_dims=2,perplexity=100,learning_rate=200)"
   ]
  },
  {
   "cell_type": "markdown",
   "metadata": {},
   "source": [
    "## [5.4.2] TFIDF WEIGHTED WORD2VEC VECTORIZATION "
   ]
  },
  {
   "cell_type": "code",
   "execution_count": null,
   "metadata": {},
   "outputs": [],
   "source": [
    "Visualization(Dataset=TFIDF_Word2Vec_Vectorization,Score=Amazon_Food_Reviews_Preprocessed['Score'].values,Title='TFIDF WORD2VEC Vectoization TSNE',no_of_dims=2,perplexity=10,learning_rate=200)"
   ]
  },
  {
   "cell_type": "code",
   "execution_count": null,
   "metadata": {},
   "outputs": [],
   "source": [
    "Visualization(Dataset=TFIDF_Word2Vec_Vectorization,Score=Amazon_Food_Reviews_Preprocessed['Score'].values,Title='TFIDF WORD2VEC Vectoization TSNE',no_of_dims=2,perplexity=20,learning_rate=200)"
   ]
  },
  {
   "cell_type": "code",
   "execution_count": null,
   "metadata": {},
   "outputs": [],
   "source": [
    "Visualization(Dataset=TFIDF_Word2Vec_Vectorization,Score=Amazon_Food_Reviews_Preprocessed['Score'].values,Title='TFIDF WORD2VEC Vectoization TSNE',no_of_dims=2,perplexity=30,learning_rate=200)"
   ]
  },
  {
   "cell_type": "code",
   "execution_count": null,
   "metadata": {},
   "outputs": [],
   "source": [
    "Visualization(Dataset=TFIDF_Word2Vec_Vectorization,Score=Amazon_Food_Reviews_Preprocessed['Score'].values,Title='TFIDF WORD2VEC Vectoization TSNE',no_of_dims=2,perplexity=40,learning_rate=200)"
   ]
  },
  {
   "cell_type": "code",
   "execution_count": null,
   "metadata": {},
   "outputs": [],
   "source": [
    "Visualization(Dataset=TFIDF_Word2Vec_Vectorization,Score=Amazon_Food_Reviews_Preprocessed['Score'].values,Title='TFIDF WORD2VEC Vectoization TSNE')"
   ]
  },
  {
   "cell_type": "code",
   "execution_count": null,
   "metadata": {},
   "outputs": [],
   "source": [
    "Visualization(Dataset=TFIDF_Word2Vec_Vectorization,Score=Amazon_Food_Reviews_Preprocessed['Score'].values,Title='TFIDF WORD2VEC Vectoization TSNE',no_of_dims=2,perplexity=100,learning_rate=200)"
   ]
  },
  {
   "cell_type": "markdown",
   "metadata": {},
   "source": [
    "<b>Observation:-</b> This plot also looks like the bow, tfidf and avg word2vec.Both +ve and -ve reviwes are not well seperated they overlapped each other."
   ]
  },
  {
   "cell_type": "markdown",
   "metadata": {},
   "source": [
    "<b> Conclusions:- </b>\n",
    "\n",
    "1. AS none of TSNE representation gives a well separated both +ve and -ve reviews.\n",
    "2. We can not simply draw a plane to separate -ve and +ve reviews. Although, By looking at only visual representation of data \n",
    "    we can not take decision whether to draw a plane or not.\n",
    "3. We will have some alternative method by that we will look at into this problem like how we can separate -ve and +ve reviews."
   ]
  },
  {
   "cell_type": "markdown",
   "metadata": {},
   "source": [
    "# [6] MODELLING"
   ]
  },
  {
   "cell_type": "markdown",
   "metadata": {},
   "source": [
    "## [6.1] K-NEAREST NEIGHBOURS"
   ]
  },
  {
   "cell_type": "markdown",
   "metadata": {},
   "source": [
    "## TIME BASED SPLITTING"
   ]
  },
  {
   "cell_type": "code",
   "execution_count": null,
   "metadata": {},
   "outputs": [],
   "source": [
    "def Cleaning_Pipeline(filename,FullDataLoad=False):\n",
    "    Amazon_Food_Reviews,Table_Connection = LoadData(Dataset_Name,FullDataLoad=FullDataLoad)\n",
    "    Amazon_Food_Reviews['Score']= Amazon_Food_Reviews['Score'].apply(lambda x: 1 if x>3 else 0)\n",
    "    print(Amazon_Food_Reviews.head())\n",
    "    \n",
    "    Amazon_Food_Reviews_Sorted_Data= Amazon_Food_Reviews.sort_values('ProductId',axis=0, inplace=False, kind='quicksort', na_position='last')\n",
    "    Amazon_Food_Reviews_Duplicates_Dropped= Amazon_Food_Reviews_Sorted_Data.drop_duplicates(subset={\"UserId\",\"ProfileName\",\"Time\",\"Text\"},keep='first',inplace=False)\n",
    "    print(\"{:07.3f} % of data removed during duplicates removal operation\".format((1-(Amazon_Food_Reviews_Duplicates_Dropped.shape[0])/(Amazon_Food_Reviews_Sorted_Data.shape[0]))*100))\n",
    "    Amazon_Food_Reviews_Preprocessed=Amazon_Food_Reviews_Duplicates_Dropped[Amazon_Food_Reviews_Duplicates_Dropped.HelpfulnessNumerator<=Amazon_Food_Reviews_Duplicates_Dropped.HelpfulnessDenominator]\n",
    "    print(\"{:07.3f} % of data removed\".format(np.round((1-(Amazon_Food_Reviews_Preprocessed.shape[0])/(Amazon_Food_Reviews_Duplicates_Dropped.shape[0]))*100)))\n",
    "    return Amazon_Food_Reviews_Preprocessed"
   ]
  },
  {
   "cell_type": "code",
   "execution_count": null,
   "metadata": {},
   "outputs": [],
   "source": [
    "Dataset_Name='database.sqlite'\n",
    "#cleaning 5000 records\n",
    "Amazon_Food_Reviews_Preprocessed= Cleaning_Pipeline(Dataset_Name,FullDataLoad=True)"
   ]
  },
  {
   "cell_type": "code",
   "execution_count": null,
   "metadata": {},
   "outputs": [],
   "source": [
    "def Balanced_Data(Total_Dataset):\n",
    "    return pd.concat([Total_Dataset[Total_Dataset['Score']==1].sample(frac=0.035,random_state=1),Total_Dataset[Total_Dataset['Score']==0].sample(frac=0.15,random_state=1)],axis=0)"
   ]
  },
  {
   "cell_type": "code",
   "execution_count": null,
   "metadata": {},
   "outputs": [],
   "source": [
    "Balanced_Amazon_Data_Preprocessed=Balanced_Data(Total_Dataset=Amazon_Food_Reviews_Preprocessed)"
   ]
  },
  {
   "cell_type": "code",
   "execution_count": null,
   "metadata": {},
   "outputs": [],
   "source": [
    "Balanced_Data_Time_Sorted=Balanced_Amazon_Data_Preprocessed.sort_values('Time',axis=0,kind='quicksort',ascending=True).reset_index(drop=True)"
   ]
  },
  {
   "cell_type": "code",
   "execution_count": null,
   "metadata": {},
   "outputs": [],
   "source": [
    "Balanced_Data_Time_Sorted['Score'].value_counts().plot(kind='bar')"
   ]
  },
  {
   "cell_type": "code",
   "execution_count": null,
   "metadata": {},
   "outputs": [],
   "source": [
    "def Find_Optimal_K_In_KNN(X_Train,Y_Train,K_Values_List):\n",
    "    #creating odd list of K values\n",
    "    neighbors= list(filter(lambda k: k%2!=0,K_Values_List))\n",
    "    CV_Scores=[]\n",
    "    for k in tqdm(neighbors):\n",
    "        knn = KNeighborsClassifier(n_neighbors=k,n_jobs=-1)\n",
    "        scores = cross_val_score(knn,X_Train,Y_Train,cv=10,scoring='accuracy',n_jobs=-1)\n",
    "        CV_Scores.append(scores.mean())\n",
    "    MSE = [1-x for x in CV_Scores]\n",
    "    Optimal_K = neighbors[MSE.index(min(MSE))]\n",
    "    print('\\nThe optimal number of neighbors is {}'.format(Optimal_K))\n",
    "    plt.figure(figsize=(12,10))\n",
    "    plt.plot(neighbors,MSE,color='blue', linestyle='dashed',marker='o',markerfacecolor='red', markersize=10)\n",
    "    plt.title('Error Rate vs. K Value')\n",
    "    plt.xlabel('K')\n",
    "    plt.ylabel('Error Rate')\n",
    "    print(\"the misclassification error for each k value is : \", np.round(MSE,3))\n",
    "    return Optimal_K"
   ]
  },
  {
   "cell_type": "markdown",
   "metadata": {},
   "source": [
    "## [6.1.1] COUNT VECTORIZATION"
   ]
  },
  {
   "cell_type": "code",
   "execution_count": null,
   "metadata": {},
   "outputs": [],
   "source": [
    "X_Train,X_Test,Y_Train,Y_Test = train_test_split(Balanced_Data_Time_Sorted['Text'],Balanced_Data_Time_Sorted['Score'],test_size=0.25)"
   ]
  },
  {
   "cell_type": "code",
   "execution_count": null,
   "metadata": {},
   "outputs": [],
   "source": [
    "from sklearn.preprocessing import StandardScaler\n",
    "\n",
    "cnt_vect = CountVectorizer(ngram_range=(1,2),min_df=10,max_features=5000)\n",
    "X_Train_Features=cnt_vect.fit_transform(X_Train)\n",
    "X_Test_Features = cnt_vect.transform(X_Test)"
   ]
  },
  {
   "cell_type": "code",
   "execution_count": null,
   "metadata": {},
   "outputs": [],
   "source": [
    "K_Neighbours_List = list(range(0,20))\n",
    "Optimal_K = Find_Optimal_K_In_KNN(X_Train_Features.toarray() ,Y_Train,K_Neighbours_List)"
   ]
  },
  {
   "cell_type": "code",
   "execution_count": null,
   "metadata": {},
   "outputs": [],
   "source": [
    "knn = KNeighborsClassifier(n_neighbors=Optimal_K)\n",
    "knn.fit(X_Train_Features, Y_Train)\n",
    "kn_pred = knn.predict(X_Test_Features)"
   ]
  },
  {
   "cell_type": "code",
   "execution_count": null,
   "metadata": {},
   "outputs": [],
   "source": [
    "\n",
    "knn_confusion_matrix=confusion_matrix(Y_Test,kn_pred)\n",
    "skplt.plot_confusion_matrix(Y_Test,kn_pred)"
   ]
  },
  {
   "cell_type": "code",
   "execution_count": null,
   "metadata": {},
   "outputs": [],
   "source": [
    "from sklearn.metrics import accuracy_score,classification_report\n",
    "print(accuracy_score(Y_Test,kn_pred))"
   ]
  },
  {
   "cell_type": "code",
   "execution_count": null,
   "metadata": {},
   "outputs": [],
   "source": [
    "print(classification_report(Y_Test,kn_pred))"
   ]
  },
  {
   "cell_type": "markdown",
   "metadata": {},
   "source": [
    "## [6.1.1] TFIDF VECTORIZATION"
   ]
  },
  {
   "cell_type": "code",
   "execution_count": null,
   "metadata": {},
   "outputs": [],
   "source": [
    "from sklearn.feature_extraction.text import TfidfVectorizer\n",
    "#X_Train,X_Test,Y_Train,Y_Test = train_test_split(Balanced_Data_Time_Sorted['Text'],Balanced_Data_Time_Sorted['Score'],test_size=0.25)\n",
    "TFIDF_vect = TfidfVectorizer(ngram_range=(1,2),min_df=10,max_features=5000)\n",
    "X_Train_Features=TFIDF_vect.fit_transform(X_Train)\n",
    "X_Test_Features = TFIDF_vect.transform(X_Test)"
   ]
  },
  {
   "cell_type": "code",
   "execution_count": null,
   "metadata": {},
   "outputs": [],
   "source": [
    "K_Neighbours_List = list(range(0,20))\n",
    "Optimal_K = Find_Optimal_K_In_KNN(X_Train_Features.toarray() ,Y_Train,K_Neighbours_List)\n"
   ]
  },
  {
   "cell_type": "code",
   "execution_count": null,
   "metadata": {},
   "outputs": [],
   "source": [
    "knn = KNeighborsClassifier(n_neighbors=Optimal_K)\n",
    "knn.fit(X_Train_Features, Y_Train)\n",
    "knn_TFIDF_pred = knn.predict(X_Test_Features)"
   ]
  },
  {
   "cell_type": "code",
   "execution_count": null,
   "metadata": {},
   "outputs": [],
   "source": [
    "\n",
    "knn_confusion_matrix=confusion_matrix(Y_Test,knn_TFIDF_pred)\n",
    "skplt.plot_confusion_matrix(Y_Test,knn_TFIDF_pred)\n",
    "print(accuracy_score(Y_Test,knn_TFIDF_pred))"
   ]
  },
  {
   "cell_type": "code",
   "execution_count": null,
   "metadata": {},
   "outputs": [],
   "source": [
    "print(classification_report(Y_Test,knn_TFIDF_pred))"
   ]
  },
  {
   "cell_type": "code",
   "execution_count": null,
   "metadata": {},
   "outputs": [],
   "source": []
  }
 ],
 "metadata": {
  "kernelspec": {
   "display_name": "Python 3",
   "language": "python",
   "name": "python3"
  },
  "language_info": {
   "codemirror_mode": {
    "name": "ipython",
    "version": 3
   },
   "file_extension": ".py",
   "mimetype": "text/x-python",
   "name": "python",
   "nbconvert_exporter": "python",
   "pygments_lexer": "ipython3",
   "version": "3.6.8"
  }
 },
 "nbformat": 4,
 "nbformat_minor": 1
}
